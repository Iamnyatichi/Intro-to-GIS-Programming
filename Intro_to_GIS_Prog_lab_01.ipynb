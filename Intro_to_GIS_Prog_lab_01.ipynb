{
  "cells": [
    {
      "cell_type": "markdown",
      "metadata": {
        "id": "view-in-github",
        "colab_type": "text"
      },
      "source": [
        "<a href=\"https://colab.research.google.com/github/Iamnyatichi/Intro-to-GIS-Programming/blob/main/Intro_to_GIS_Prog_lab_01.ipynb\" target=\"_parent\"><img src=\"https://colab.research.google.com/assets/colab-badge.svg\" alt=\"Open In Colab\"/></a>"
      ]
    },
    {
      "cell_type": "markdown",
      "id": "0",
      "metadata": {
        "id": "0"
      },
      "source": [
        "# Lab 1\n",
        "\n",
        "[![Open In Colab](https://colab.research.google.com/assets/colab-badge.svg)](https://colab.research.google.com/github/giswqs/geog-312/blob/main/book/labs/lab_01.ipynb)"
      ]
    },
    {
      "cell_type": "markdown",
      "id": "1",
      "metadata": {
        "id": "1"
      },
      "source": [
        "## Exercise 1: Variable Assignment and Basic Operations\n",
        "\n",
        "Create variables to store the following geospatial data:\n",
        "\n",
        "- The latitude and longitude of New York City: 40.7128, -74.0060.\n",
        "- The population of New York City: 8,336,817.\n",
        "- The area of New York City in square kilometers: 783.8.\n",
        "\n",
        "Perform the following tasks:\n",
        "\n",
        "1. Calculate and print the population density of New York City (population per square kilometer).\n",
        "2. Print the coordinates in the format \"Latitude: [latitude], Longitude: [longitude]\"."
      ]
    },
    {
      "cell_type": "code",
      "execution_count": 10,
      "id": "2",
      "metadata": {
        "id": "2",
        "colab": {
          "base_uri": "https://localhost:8080/"
        },
        "outputId": "f80a6f94-872d-4654-8a26-a31fe6cda53a"
      },
      "outputs": [
        {
          "output_type": "stream",
          "name": "stdout",
          "text": [
            "The population density of New York City: 10636.408522582293 per Square Kilometer\n",
            "Latitude: 40.7128, Longitude: -74.006\n"
          ]
        }
      ],
      "source": [
        "latitude=40.7128\n",
        "longitude= -74.0060\n",
        "population=8336817\n",
        "area=783.8\n",
        "population_density=population/area\n",
        "print(f\"The population density of New York City: {population_density} per Square Kilometer\")\n",
        "cordinates= (f\"Latitude: {latitude}, Longitude: {longitude}\")\n",
        "print(cordinates)"
      ]
    },
    {
      "cell_type": "markdown",
      "id": "3",
      "metadata": {
        "id": "3"
      },
      "source": [
        "## Exercise 2: Working with Strings\n",
        "\n",
        "Create a string variable to store the name of a city, such as \"San Francisco\". Perform the following operations:\n",
        "\n",
        "1. Convert the string to lowercase and print the result.\n",
        "2. Convert the string to uppercase and print the result.\n",
        "3. Replace \"San\" with \"Los\" in the city name and print the new string."
      ]
    },
    {
      "cell_type": "code",
      "execution_count": 28,
      "id": "4",
      "metadata": {
        "id": "4",
        "colab": {
          "base_uri": "https://localhost:8080/"
        },
        "outputId": "62840cfe-76ad-431e-8b3d-6624e8128a8b"
      },
      "outputs": [
        {
          "output_type": "stream",
          "name": "stdout",
          "text": [
            "nairobi city\n",
            "NAIROBI CITY\n",
            "Nairobi Town\n"
          ]
        }
      ],
      "source": [
        "city_name=\"Nairobi City\"\n",
        "city_lower=city_name.lower()\n",
        "print(city_lower)\n",
        "city_upper=city_name.upper()\n",
        "print(city_upper)\n",
        "city_replace= city_name.replace(\"City\", \"Town\")\n",
        "print(city_replace)"
      ]
    },
    {
      "cell_type": "markdown",
      "id": "5",
      "metadata": {
        "id": "5"
      },
      "source": [
        "## Exercise 3: Using Lists\n",
        "\n",
        "Create a list of tuples, where each tuple contains the name of a city and its corresponding latitude and longitude:\n",
        "\n",
        "- New York City: (40.7128, -74.0060)\n",
        "- Los Angeles: (34.0522, -118.2437)\n",
        "- Chicago: (41.8781, -87.6298)\n",
        "\n",
        "Perform the following tasks:\n",
        "\n",
        "1. Add a new city (e.g., Miami: (25.7617, -80.1918)) to the list.\n",
        "2. Print the entire list of cities.\n",
        "3. Slice the list to print only the first two cities."
      ]
    },
    {
      "cell_type": "code",
      "execution_count": 64,
      "id": "6",
      "metadata": {
        "id": "6",
        "colab": {
          "base_uri": "https://localhost:8080/"
        },
        "outputId": "e4561b04-a08e-4d91-ea19-33482399a43e"
      },
      "outputs": [
        {
          "output_type": "stream",
          "name": "stdout",
          "text": [
            "[('New York CIty:', 40.7128, -74.006), ('Los Angeles:', 34.0522, -118.2437), ('Chicago:', 41.8781, -87.6298), ('Miami:', 25.7617, -80.1918)]\n",
            "[('New York CIty:', 40.7128, -74.006), ('Los Angeles:', 34.0522, -118.2437)]\n"
          ]
        }
      ],
      "source": [
        "cities=[(\"New York CIty:\", 40.7128, -74.0060), (\"Los Angeles:\", 34.0522, -118.2437), (\"Chicago:\", 41.8781, -87.6298)]\n",
        "cities.append((\"Miami:\", 25.7617, -80.1918))\n",
        "print(cities)\n",
        "print(cities[0:2])"
      ]
    },
    {
      "cell_type": "markdown",
      "id": "7",
      "metadata": {
        "id": "7"
      },
      "source": [
        "## Exercise 4: Using Tuples\n",
        "\n",
        "Create a tuple to store the coordinates (latitude, longitude) of the Eiffel Tower: (48.8584, 2.2945). Perform the following tasks:\n",
        "\n",
        "1. Access and print the latitude and longitude values from the tuple.\n",
        "2. Try to change the latitude value to 48.8585. What happens? Explain why."
      ]
    },
    {
      "cell_type": "code",
      "execution_count": 72,
      "id": "8",
      "metadata": {
        "id": "8",
        "colab": {
          "base_uri": "https://localhost:8080/",
          "height": 211
        },
        "outputId": "850086e0-4917-4042-d587-2e00bf79a3b9"
      },
      "outputs": [
        {
          "output_type": "stream",
          "name": "stdout",
          "text": [
            "(48.8584, 2.2945)\n"
          ]
        },
        {
          "output_type": "error",
          "ename": "TypeError",
          "evalue": "'tuple' object does not support item assignment",
          "traceback": [
            "\u001b[0;31m---------------------------------------------------------------------------\u001b[0m",
            "\u001b[0;31mTypeError\u001b[0m                                 Traceback (most recent call last)",
            "\u001b[0;32m<ipython-input-72-bc9bf8a5cb93>\u001b[0m in \u001b[0;36m<cell line: 3>\u001b[0;34m()\u001b[0m\n\u001b[1;32m      1\u001b[0m \u001b[0meifeel_tower\u001b[0m\u001b[0;34m=\u001b[0m\u001b[0;34m(\u001b[0m\u001b[0;36m48.8584\u001b[0m\u001b[0;34m,\u001b[0m \u001b[0;36m2.2945\u001b[0m\u001b[0;34m)\u001b[0m\u001b[0;34m\u001b[0m\u001b[0;34m\u001b[0m\u001b[0m\n\u001b[1;32m      2\u001b[0m \u001b[0mprint\u001b[0m\u001b[0;34m(\u001b[0m\u001b[0meifeel_tower\u001b[0m\u001b[0;34m)\u001b[0m\u001b[0;34m\u001b[0m\u001b[0;34m\u001b[0m\u001b[0m\n\u001b[0;32m----> 3\u001b[0;31m \u001b[0meifeel_tower\u001b[0m\u001b[0;34m[\u001b[0m\u001b[0;36m0\u001b[0m\u001b[0;34m]\u001b[0m\u001b[0;34m=\u001b[0m \u001b[0;36m48.8585\u001b[0m\u001b[0;34m\u001b[0m\u001b[0;34m\u001b[0m\u001b[0m\n\u001b[0m\u001b[1;32m      4\u001b[0m \u001b[0mprint\u001b[0m\u001b[0;34m(\u001b[0m\u001b[0meifeel_tower\u001b[0m\u001b[0;34m)\u001b[0m \u001b[0;31m#Because lists are mutable, the value changed to the last assigned\u001b[0m\u001b[0;34m\u001b[0m\u001b[0;34m\u001b[0m\u001b[0m\n",
            "\u001b[0;31mTypeError\u001b[0m: 'tuple' object does not support item assignment"
          ]
        }
      ],
      "source": [
        "eifeel_tower=(48.8584, 2.2945)\n",
        "print(eifeel_tower)\n",
        "eifeel_tower[0]= 48.8585\n",
        "print(eifeel_tower) #Because tuples are immutable, the value cannot be changed to the last assigned"
      ]
    },
    {
      "cell_type": "markdown",
      "id": "9",
      "metadata": {
        "id": "9"
      },
      "source": [
        "## Exercise 5: Working with Sets\n",
        "\n",
        "Create a set of countries you have visited, such as {\"USA\", \"France\", \"Germany\"}. Perform the following tasks:\n",
        "\n",
        "1. Add a new country to the set.\n",
        "2. Try to add the same country again. What happens?\n",
        "3. Print the updated set."
      ]
    },
    {
      "cell_type": "code",
      "execution_count": 41,
      "id": "10",
      "metadata": {
        "id": "10",
        "colab": {
          "base_uri": "https://localhost:8080/"
        },
        "outputId": "cbad7493-d432-4e5c-ea32-db3de12f5c53"
      },
      "outputs": [
        {
          "output_type": "stream",
          "name": "stdout",
          "text": [
            "{'Kenya', 'Jamaica', 'England', 'Greece', 'USA'}\n"
          ]
        }
      ],
      "source": [
        "countries={\"Kenya\",\"USA\", \"Greece\",\"England\", \"Jamaica\", \"Jamaica\"}\n",
        "print(countries) #the duplicate country is not printed as sets do not allow duplicates"
      ]
    },
    {
      "cell_type": "markdown",
      "id": "11",
      "metadata": {
        "id": "11"
      },
      "source": [
        "## Exercise 6: Working with Dictionaries\n",
        "\n",
        "Create a dictionary to store information about a specific geospatial feature, such as a river:\n",
        "\n",
        "- Name: \"Amazon River\"\n",
        "- Length: 6400 km\n",
        "- Countries: [\"Brazil\", \"Peru\", \"Colombia\"]\n",
        "\n",
        "Perform the following tasks:\n",
        "\n",
        "1. Add a new key-value pair to the dictionary to store the river's average discharge (e.g., 209,000 m³/s).\n",
        "2. Update the length of the river to 6992 km.\n",
        "3. Print the dictionary."
      ]
    },
    {
      "cell_type": "code",
      "execution_count": 44,
      "id": "12",
      "metadata": {
        "id": "12",
        "colab": {
          "base_uri": "https://localhost:8080/"
        },
        "outputId": "bbfc9490-6482-40ef-b702-bf22e0b342fc"
      },
      "outputs": [
        {
          "output_type": "stream",
          "name": "stdout",
          "text": [
            "{'Name': 'Amazon River', 'Lenght': 6992, 'countries': ['Brazil', 'Peru', 'Colombia'], 'Discharge': 209000}\n"
          ]
        }
      ],
      "source": [
        "river={\n",
        "    \"Name\": \"Amazon River\",\n",
        "    \"Lenght\": 6400,\n",
        "    \"countries\": [\"Brazil\", \"Peru\", \"Colombia\"]\n",
        "}\n",
        "river.update({\"Discharge\":209000})\n",
        "river.update({\"Lenght\":6992})\n",
        "print(river)"
      ]
    },
    {
      "cell_type": "markdown",
      "id": "13",
      "metadata": {
        "id": "13"
      },
      "source": [
        "## Exercise 7: Nested Data Structures\n",
        "\n",
        "Create a dictionary to represent a city that contains the city's name, population, and coordinates (latitude, longitude):\n",
        "\n",
        "- Name: \"Tokyo\"\n",
        "- Population: 13,515,271\n",
        "- Coordinates: (35.6895, 139.6917)\n",
        "\n",
        "Perform the following tasks:\n",
        "\n",
        "1. Access and print the population of the city.\n",
        "2. Access and print the city's latitude.\n",
        "3. Update the population to 14,000,000 and print the updated dictionary."
      ]
    },
    {
      "cell_type": "code",
      "execution_count": 52,
      "id": "14",
      "metadata": {
        "id": "14",
        "colab": {
          "base_uri": "https://localhost:8080/"
        },
        "outputId": "e8b95b99-5578-40f6-d5df-be90c61ddaf8"
      },
      "outputs": [
        {
          "output_type": "stream",
          "name": "stdout",
          "text": [
            "13515271\n",
            "35.6895\n",
            "{'Name': 'Tokyo', 'Population': 14000000, 'Coordinates': [35.6895, 139.6917]}\n"
          ]
        }
      ],
      "source": [
        "city={\n",
        "    \"Name\": \"Tokyo\",\n",
        "    \"Population\": 13515271,\n",
        "    \"Coordinates\":[35.6895, 139.6917]\n",
        "}\n",
        "print(city[\"Population\"])\n",
        "print(city[\"Coordinates\"][0])\n",
        "city.update({\"Population\": 14000000})\n",
        "print(city)"
      ]
    },
    {
      "cell_type": "markdown",
      "id": "15",
      "metadata": {
        "id": "15"
      },
      "source": [
        "## Exercise 8: List Operations\n",
        "\n",
        "Given the list of cities from Exercise 3, perform the following operations:\n",
        "\n",
        "1. Sort the list of cities alphabetically by name.\n",
        "2. Create a new list that contains only the city names.\n",
        "3. Remove the last city from the original list and print the updated list."
      ]
    },
    {
      "cell_type": "code",
      "execution_count": 68,
      "id": "16",
      "metadata": {
        "id": "16",
        "colab": {
          "base_uri": "https://localhost:8080/"
        },
        "outputId": "1ae22389-2db3-4ab2-da61-130e61259938"
      },
      "outputs": [
        {
          "output_type": "stream",
          "name": "stdout",
          "text": [
            "[('Chicago:', 41.8781, -87.6298), ('Los Angeles:', 34.0522, -118.2437), ('Miami:', 25.7617, -80.1918), ('New York CIty:', 40.7128, -74.006)]\n",
            "['Chicago', 'Los Angeles', 'Miami', 'New york']\n",
            "[('Chicago:', 41.8781, -87.6298), ('Los Angeles:', 34.0522, -118.2437), ('Miami:', 25.7617, -80.1918)]\n"
          ]
        }
      ],
      "source": [
        "cities.sort()\n",
        "print(cities)\n",
        "new_cities=[\"Chicago\", \"Los Angeles\", \"Miami\",\"New york\"]\n",
        "print(new_cities)\n",
        "cities.remove((\"New York CIty:\", 40.7128, -74.0060))\n",
        "print(cities)"
      ]
    },
    {
      "cell_type": "markdown",
      "id": "17",
      "metadata": {
        "id": "17"
      },
      "source": [
        "## Exercise 9: Dictionary Operations\n",
        "\n",
        "Using the dictionary from Exercise 6, perform the following tasks:\n",
        "\n",
        "1. Check if the key \"Length\" exists in the dictionary.\n",
        "2. Print all the keys in the dictionary.\n",
        "3. Print all the values in the dictionary."
      ]
    },
    {
      "cell_type": "code",
      "execution_count": 69,
      "id": "18",
      "metadata": {
        "id": "18",
        "colab": {
          "base_uri": "https://localhost:8080/"
        },
        "outputId": "1cb7198c-7289-49d3-f5c8-cc9cf192569e"
      },
      "outputs": [
        {
          "output_type": "stream",
          "name": "stdout",
          "text": [
            "6992\n",
            "dict_keys(['Name', 'Lenght', 'countries', 'Discharge'])\n",
            "dict_values(['Amazon River', 6992, ['Brazil', 'Peru', 'Colombia'], 209000])\n"
          ]
        }
      ],
      "source": [
        "print(river.get(\"Lenght\"))\n",
        "print(river.keys())\n",
        "print(river.values())"
      ]
    },
    {
      "cell_type": "markdown",
      "id": "19",
      "metadata": {
        "id": "19"
      },
      "source": [
        "## Exercise 10: Practical Application\n",
        "\n",
        "Imagine you have a list of tuples, each representing a location with its name, latitude, and longitude:"
      ]
    },
    {
      "cell_type": "code",
      "execution_count": 75,
      "id": "20",
      "metadata": {
        "id": "20",
        "colab": {
          "base_uri": "https://localhost:8080/"
        },
        "outputId": "36c5decc-49ab-48ac-cc5d-4ccee3fad367"
      },
      "outputs": [
        {
          "output_type": "stream",
          "name": "stdout",
          "text": [
            "35.8808\n"
          ]
        }
      ],
      "source": [
        "locations = [\n",
        "    (\"Mount Everest\", 27.9881, 86.9250),\n",
        "    (\"K2\", 35.8808, 76.5155),\n",
        "    (\"Kangchenjunga\", 27.7025, 88.1475),\n",
        "]\n",
        "locations_names=[\"Mount everest\", \"K2\", \"Kangchenjunga\"]\n",
        "location_dict={\n",
        "    \"Mount Everest\": (27.9881, 86.9250),\n",
        "    \"K2\": (35.8808, 76.5155),\n",
        "    \"Kangchenjunga\": (27.7025, 88.1475)\n",
        "}\n",
        "print(location_dict[\"K2\"][0])"
      ]
    },
    {
      "cell_type": "markdown",
      "id": "21",
      "metadata": {
        "id": "21"
      },
      "source": [
        "Perform the following tasks:\n",
        "\n",
        "1. Create a new list that contains only the names of the locations.\n",
        "2. Create a dictionary where the keys are location names and the values are tuples of their coordinates.\n",
        "3. Print the latitude of \"K2\" using the dictionary."
      ]
    },
    {
      "cell_type": "code",
      "execution_count": null,
      "id": "22",
      "metadata": {
        "id": "22"
      },
      "outputs": [],
      "source": []
    }
  ],
  "metadata": {
    "kernelspec": {
      "display_name": "Python 3",
      "language": "python",
      "name": "python3"
    },
    "language_info": {
      "codemirror_mode": {
        "name": "ipython",
        "version": 3
      },
      "file_extension": ".py",
      "mimetype": "text/x-python",
      "name": "python",
      "nbconvert_exporter": "python",
      "pygments_lexer": "ipython3",
      "version": "3.11.8"
    },
    "colab": {
      "provenance": [],
      "include_colab_link": true
    }
  },
  "nbformat": 4,
  "nbformat_minor": 5
}